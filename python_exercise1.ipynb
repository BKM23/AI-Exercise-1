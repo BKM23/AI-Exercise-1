{
 "cells": [
  {
   "cell_type": "code",
   "execution_count": 2,
   "id": "158f2f77",
   "metadata": {},
   "outputs": [
    {
     "name": "stdout",
     "output_type": "stream",
     "text": [
      "4 day(s) = 345600 seconds\n"
     ]
    }
   ],
   "source": [
    "#Q1.\n",
    "# Ask the user for the number of days\n",
    "days = int(input(\"Enter the number of days: \"))\n",
    "\n",
    "# Calculate seconds (1 day = 24 hours, 1 hour = 60 minutes, 1 minute = 60 seconds)\n",
    "seconds = days * 24 * 60 * 60\n",
    "\n",
    "# Print the result\n",
    "print(f\"{days} day(s) = {seconds} seconds\")\n"
   ]
  },
  {
   "cell_type": "code",
   "execution_count": 1,
   "id": "ab7ecb25",
   "metadata": {},
   "outputs": [
    {
     "name": "stdout",
     "output_type": "stream",
     "text": [
      "The volume of a sphere with radius 6.0 is 904.78\n"
     ]
    }
   ],
   "source": [
    "#Q2.\n",
    "import math  # to use the value of π\n",
    "\n",
    "# Ask the user for the radius\n",
    "radius = float(input(\"Enter the radius of the sphere: \"))\n",
    "\n",
    "# Calculate volume using the formula (4/3) * π * r^3\n",
    "volume = (4/3) * math.pi * (radius ** 3)\n",
    "\n",
    "# Print the result\n",
    "print(f\"The volume of a sphere with radius {radius} is {volume:.2f}\")\n"
   ]
  },
  {
   "cell_type": "code",
   "execution_count": 1,
   "id": "e0c5d79c",
   "metadata": {},
   "outputs": [
    {
     "name": "stdout",
     "output_type": "stream",
     "text": [
      "For a square with side 7.0:\n",
      "Area = 49.0\n",
      "Perimeter = 28.0\n"
     ]
    }
   ],
   "source": [
    "# Q3. Program using functions to compute the area and perimeter of a square.\n",
    "\n",
    "# Define a function to calculate the area of a square\n",
    "def area_of_square(side):\n",
    "    return side ** 2\n",
    "\n",
    "# Define a function to calculate the perimeter of a square\n",
    "def perimeter_of_square(side):\n",
    "    return 4 * side\n",
    "\n",
    "# Ask user to enter the side length\n",
    "side_length = float(input(\"Enter the side length of the square: \"))\n",
    "\n",
    "# Call functions and store results\n",
    "area = area_of_square(side_length)\n",
    "perimeter = perimeter_of_square(side_length)\n",
    "\n",
    "# Display the results\n",
    "print(f\"For a square with side {side_length}:\")\n",
    "print(f\"Area = {area}\")\n",
    "print(f\"Perimeter = {perimeter}\")\n"
   ]
  },
  {
   "cell_type": "code",
   "execution_count": null,
   "id": "b503bc1c",
   "metadata": {},
   "outputs": [
    {
     "name": "stdout",
     "output_type": "stream",
     "text": [
      "The character 'A' is: Uppercase\n"
     ]
    }
   ],
   "source": [
    "# Q4. Program using functions to determine if a character is uppercase or lowercase.\n",
    "\n",
    "def check_case(character):\n",
    "    if character.isupper():\n",
    "        return \"Uppercase\"\n",
    "    elif character.islower():\n",
    "        return \"Lowercase\"\n",
    "    else:\n",
    "        return \"Not an alphabetic character\"\n",
    "\n",
    "# Ask the user for a character input\n",
    "char_input = input(\"Enter a single character: \")\n",
    "\n",
    "# Call the function and display the result\n",
    "result = check_case(char_input)\n",
    "print(f\"The character '{char_input}' is: {result}\")"
   ]
  },
  {
   "cell_type": "code",
   "execution_count": 1,
   "id": "fc0eea01",
   "metadata": {},
   "outputs": [
    {
     "name": "stdout",
     "output_type": "stream",
     "text": [
      "1.0416666666666665\n"
     ]
    }
   ],
   "source": [
    "x = 0\n",
    "y = 20\n",
    "\n",
    "while True:\n",
    "    y -= 4\n",
    "    x += 2 / y\n",
    "    if y < 6:\n",
    "        break\n",
    "\n",
    "print(x)"
   ]
  },
  {
   "cell_type": "code",
   "execution_count": null,
   "id": "55488617",
   "metadata": {},
   "outputs": [
    {
     "name": "stdout",
     "output_type": "stream",
     "text": [
      "Enter 5 numbers (press Enter after each number):\n"
     ]
    }
   ],
   "source": [
    "# Initialize an empty list\n",
    "numbers = []\n",
    "print(\"Enter 5 numbers (press Enter after each number):\")\n",
    "\n",
    "# Use a loop to input 5 values\n",
    "for i in range(5):\n",
    "    while True:\n",
    "        try:\n",
    "            # Get user input\n",
    "            user_input = input(f\"Number {i+1}: \")\n",
    "            \n",
    "            # Check if input is not empty\n",
    "            if user_input.strip() == \"\":\n",
    "                print(\"Please enter a number!\")\n",
    "                continue\n",
    "                \n",
    "            # Convert to float and add to list\n",
    "            num = float(user_input)\n",
    "            numbers.append(num)\n",
    "            break\n",
    "            \n",
    "        except ValueError:\n",
    "            print(\"Invalid input! Please enter a valid number.\")\n",
    "\n",
    "# Calculate and display the average\n",
    "if numbers:  # Check if list is not empty\n",
    "    average = sum(numbers) / len(numbers)\n",
    "    print(f\"\\nNumbers entered: {numbers}\")\n",
    "    print(f\"Average: {average}\")\n",
    "else:\n",
    "    print(\"No numbers were entered.\")"
   ]
  },
  {
   "cell_type": "code",
   "execution_count": null,
   "id": "c23aed64",
   "metadata": {},
   "outputs": [],
   "source": []
  }
 ],
 "metadata": {
  "kernelspec": {
   "display_name": "Python 3",
   "language": "python",
   "name": "python3"
  },
  "language_info": {
   "codemirror_mode": {
    "name": "ipython",
    "version": 3
   },
   "file_extension": ".py",
   "mimetype": "text/x-python",
   "name": "python",
   "nbconvert_exporter": "python",
   "pygments_lexer": "ipython3",
   "version": "3.9.13"
  }
 },
 "nbformat": 4,
 "nbformat_minor": 5
}
